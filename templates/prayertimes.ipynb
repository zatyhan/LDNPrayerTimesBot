{
 "cells": [
  {
   "cell_type": "code",
   "execution_count": 103,
   "source": [
    "from bs4 import BeautifulSoup\n",
    "import requests\n",
    "from requests_html import HTMLSession, AsyncHTMLSession\n",
    "from datetime import datetime\n",
    "\n",
    "URL= 'https://www.eastlondonmosque.org.uk/prayer-times'"
   ],
   "outputs": [],
   "metadata": {}
  },
  {
   "cell_type": "code",
   "execution_count": 57,
   "source": [
    "# Get HTML from URL.\n",
    "asession = AsyncHTMLSession()\n",
    "r = await asession.get(URL)\n",
    "await r.html.arender()"
   ],
   "outputs": [],
   "metadata": {}
  },
  {
   "cell_type": "code",
   "execution_count": 58,
   "source": [
    "soup = BeautifulSoup(r.html.html, 'lxml')\n",
    "table = soup.find('table', {'class': 'prayer-times mceNonEditable'})"
   ],
   "outputs": [],
   "metadata": {}
  },
  {
   "cell_type": "code",
   "execution_count": 120,
   "source": [
    "day= str(datetime.datetime.today().day)\n",
    "month= str(datetime.datetime.today().month)+'-'+str(datetime.datetime.today().year)\n",
    "\n",
    "rows = table.find_all('tr', {'class': month})\n",
    "rows = rows[2:]\n",
    "\n",
    "for row in rows:\n",
    "    row_content = row.find_all('td')\n",
    "    row_content\n",
    "    if row_content[0].text == today:\n",
    "        fajr=row_content[1].text\n",
    "        zuhr=row_content[4].text\n",
    "        asr=row_content[6].text\n",
    "        maghrib=row_content[9].text\n",
    "        isha=row_content[11].text"
   ],
   "outputs": [
    {
     "output_type": "execute_result",
     "data": {
      "text/plain": [
       "'9:19'"
      ]
     },
     "metadata": {},
     "execution_count": 120
    }
   ],
   "metadata": {}
  },
  {
   "cell_type": "code",
   "execution_count": null,
   "source": [],
   "outputs": [],
   "metadata": {}
  }
 ],
 "metadata": {
  "orig_nbformat": 4,
  "language_info": {
   "name": "python",
   "version": "3.8.8",
   "mimetype": "text/x-python",
   "codemirror_mode": {
    "name": "ipython",
    "version": 3
   },
   "pygments_lexer": "ipython3",
   "nbconvert_exporter": "python",
   "file_extension": ".py"
  },
  "kernelspec": {
   "name": "python3",
   "display_name": "Python 3.8.8 64-bit ('base': conda)"
  },
  "interpreter": {
   "hash": "dca0ade3e726a953b501b15e8e990130d2b7799f14cfd9f4271676035ebe5511"
  }
 },
 "nbformat": 4,
 "nbformat_minor": 2
}