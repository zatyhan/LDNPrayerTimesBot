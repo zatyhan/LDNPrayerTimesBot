{
 "cells": [
  {
   "cell_type": "code",
   "execution_count": 12,
   "source": [
    "from bs4 import BeautifulSoup\n",
    "import requests\n",
    "# from requests_html import HTMLSession, AsyncHTMLSession\n",
    "from datetime import datetime \n",
    "import time\n",
    "\n",
    "URL= 'https://www.iccuk.org'\n",
    "\n",
    "page= requests.get(URL)\n",
    "soup= BeautifulSoup(page.text, 'lxml')\n"
   ],
   "outputs": [],
   "metadata": {}
  },
  {
   "cell_type": "code",
   "execution_count": 8,
   "source": [
    "prayer = soup.find('div', {'id': 'adWrapPrayTimesCol1'})\n",
    "prayer = prayer.find_all('p')\n",
    "\n",
    "pray=[] \n",
    "for row in prayer:\n",
    "    pray.append(row.text)\n",
    "\n",
    "table = soup.find('div', {'id': 'adWrapPrayTimesCol2'})\n",
    "table = table.find_all('p')\n",
    "\n",
    "times = []\n",
    "for time in table:\n",
    "    times.append(time.text)\n",
    "\n",
    "prayer_times= {}\n",
    "\n",
    "for index in range(0,len(times)):\n",
    "    if index < 2:\n",
    "        times[index]= datetime.strptime(times[index]+' AM', '%I.%M %p').strftime('%H:%M')\n",
    "    elif index == 2: \n",
    "        if times[index] < times[index+1]:\n",
    "            times[index] = datetime.strptime(times[index]+' PM', '%I.%M %p').strftime('%H:%M')\n",
    "        elif times[index] > times [index+1]:\n",
    "            times[index] = datetime.strptime(times[index]+' AM', '%I.%M %p').strftime('%H:%M')\n",
    "    elif index > 2:\n",
    "        times[index]= datetime.strptime(times[index]+' PM', '%I.%M %p').strftime('%H:%M')"
   ],
   "outputs": [
    {
     "output_type": "stream",
     "name": "stdout",
     "text": [
      "['Fajr', 'Sunrise', 'Zuhr', 'Asr', 'Maghrib', 'Isha']\n"
     ]
    }
   ],
   "metadata": {}
  },
  {
   "cell_type": "code",
   "execution_count": 15,
   "source": [
    "prayer_times={}\n",
    "\n",
    "for index in range(0, len(times)):\n",
    "    prayer_times[times[index]]=pray[index]\n"
   ],
   "outputs": [
    {
     "output_type": "execute_result",
     "data": {
      "text/plain": [
       "{'04:22': 'Fajr',\n",
       " '05:56': 'Sunrise',\n",
       " '13:08': 'Zuhr',\n",
       " '16:55': 'Asr',\n",
       " '20:10': 'Maghrib',\n",
       " '21:18': 'Isha',\n",
       " '17:38': 'Asr'}"
      ]
     },
     "metadata": {},
     "execution_count": 15
    }
   ],
   "metadata": {}
  },
  {
   "cell_type": "code",
   "execution_count": 17,
   "source": [
    "now = time.strftime('%H:%M')\n",
    "\n",
    "if now in prayer_times.keys():\n",
    "    print(prayer_times[now])"
   ],
   "outputs": [
    {
     "output_type": "stream",
     "name": "stdout",
     "text": [
      "Asr\n"
     ]
    }
   ],
   "metadata": {}
  },
  {
   "cell_type": "code",
   "execution_count": null,
   "source": [],
   "outputs": [],
   "metadata": {}
  }
 ],
 "metadata": {
  "orig_nbformat": 4,
  "language_info": {
   "name": "python",
   "version": "3.8.8",
   "mimetype": "text/x-python",
   "codemirror_mode": {
    "name": "ipython",
    "version": 3
   },
   "pygments_lexer": "ipython3",
   "nbconvert_exporter": "python",
   "file_extension": ".py"
  },
  "kernelspec": {
   "name": "python3",
   "display_name": "Python 3.8.8 64-bit ('base': conda)"
  },
  "interpreter": {
   "hash": "dca0ade3e726a953b501b15e8e990130d2b7799f14cfd9f4271676035ebe5511"
  }
 },
 "nbformat": 4,
 "nbformat_minor": 2
}